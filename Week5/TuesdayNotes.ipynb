{
 "metadata": {
  "name": "TuesdayNotes"
 }, 
 "nbformat": 2, 
 "worksheets": [
  {
   "cells": [
    {
     "cell_type": "code", 
     "collapsed": true, 
     "input": [
      "import scipy as scipy"
     ], 
     "language": "python", 
     "outputs": [], 
     "prompt_number": 55
    }, 
    {
     "cell_type": "markdown", 
     "source": [
      "Example One", 
      "_____________________"
     ]
    }, 
    {
     "cell_type": "markdown", 
     "source": [
      "Use the trapezoidal rule to calculate the integral of $x^4-2x+1$"
     ]
    }, 
    {
     "cell_type": "markdown", 
     "source": [
      " In domain [0,2]"
     ]
    }, 
    {
     "cell_type": "code", 
     "collapsed": true, 
     "input": [
      "f = lambda x: x**4 - 2*x + 1"
     ], 
     "language": "python", 
     "outputs": [], 
     "prompt_number": 33
    }, 
    {
     "cell_type": "code", 
     "collapsed": false, 
     "input": [
      "N = 10", 
      "a = 0.0", 
      "b = 2.0", 
      "h = (b-a)/N", 
      "s = 0.5*f(a)+0.5*f(b)", 
      "for k in range (1,N): ", 
      "    s += f(a+k*h)", 
      "print(h*s)"
     ], 
     "language": "python", 
     "outputs": [
      {
       "output_type": "stream", 
       "stream": "stdout", 
       "text": [
        "4.50656"
       ]
      }
     ], 
     "prompt_number": 34
    }, 
    {
     "cell_type": "markdown", 
     "source": [
      "Exercise 1: ", 
      "What are the results for N=100 and N=1000"
     ]
    }, 
    {
     "cell_type": "code", 
     "collapsed": false, 
     "input": [
      "N = 100", 
      "a = 0.0", 
      "b = 2.0", 
      "h = (b-a)/N", 
      "s = 0.5*f(a)+0.5*f(b)", 
      "for k in range (1,N): ", 
      "    s += f(a+k*h)", 
      "print(h*s)"
     ], 
     "language": "python", 
     "outputs": [
      {
       "output_type": "stream", 
       "stream": "stdout", 
       "text": [
        "4.401066656"
       ]
      }
     ], 
     "prompt_number": 35
    }, 
    {
     "cell_type": "code", 
     "collapsed": false, 
     "input": [
      "N = 1000", 
      "a = 0.0", 
      "b = 2.0", 
      "h = (b-a)/N", 
      "s = 0.5*f(a)+0.5*f(b)", 
      "for k in range (1,N): ", 
      "    s += f(a+k*h)", 
      "print(h*s)"
     ], 
     "language": "python", 
     "outputs": [
      {
       "output_type": "stream", 
       "stream": "stdout", 
       "text": [
        "4.40001066667"
       ]
      }
     ], 
     "prompt_number": 36
    }, 
    {
     "cell_type": "markdown", 
     "source": [
      "Exercise 2:"
     ]
    }, 
    {
     "cell_type": "markdown", 
     "source": [
      "(a) Write code to calculate an approximate calue for the integral from example 1 using Simpson's rule with 10 slices."
     ]
    }, 
    {
     "cell_type": "markdown", 
     "source": [
      "In domain [0,2] Calculate the integral of $x^4-2x+1$"
     ]
    }, 
    {
     "cell_type": "code", 
     "collapsed": false, 
     "input": [
      "N = 10", 
      "a = 0.0", 
      "b = 2.0", 
      "h = (b-a)/N", 
      "s = f(a) + f(b)", 
      "for k in range(1,N/2+1):", 
      "    s += 4*f(a + (2*k -1)*h)", 
      "for k in range(1,N/2):", 
      "    s += 2*f(a + 2*k*h)", 
      "    \"\"\"We added 1 to the denominators of the range", 
      "    because Python starts counting at 0\"\"\"", 
      "print(h/3*s)"
     ], 
     "language": "python", 
     "outputs": [
      {
       "output_type": "stream", 
       "stream": "stdout", 
       "text": [
        "4.40042666667"
       ]
      }
     ], 
     "prompt_number": 47
    }, 
    {
     "cell_type": "markdown", 
     "source": [
      "(b) Percent error is:"
     ]
    }, 
    {
     "cell_type": "code", 
     "collapsed": false, 
     "input": [
      "diff = ((h/3*s)-4.4)", 
      "", 
      "error = (diff/4.4)", 
      "", 
      "print error*100"
     ], 
     "language": "python", 
     "outputs": [
      {
       "output_type": "stream", 
       "stream": "stdout", 
       "text": [
        "0.00969696969697"
       ]
      }
     ], 
     "prompt_number": 48
    }, 
    {
     "cell_type": "markdown", 
     "source": [
      "Therefore 0.0096%."
     ]
    }, 
    {
     "cell_type": "markdown", 
     "source": [
      "(c)"
     ]
    }, 
    {
     "cell_type": "code", 
     "collapsed": false, 
     "input": [
      "N = 100", 
      "a = 0.0", 
      "b = 2.0", 
      "h = (b-a)/N", 
      "s = f(a) + f(b)", 
      "for k in range(1,N/2+1):", 
      "    s += 4*f(a + (2*k -1)*h)", 
      "for k in range(1,N/2):", 
      "    s += 2*f(a + 2*k*h)", 
      "print(h/3*s)"
     ], 
     "language": "python", 
     "outputs": [
      {
       "output_type": "stream", 
       "stream": "stdout", 
       "text": [
        "4.40000004267"
       ]
      }
     ], 
     "prompt_number": 49
    }, 
    {
     "cell_type": "code", 
     "collapsed": false, 
     "input": [
      "N = 1000", 
      "a = 0.0", 
      "b = 2.0", 
      "h = (b-a)/N", 
      "s = f(a) + f(b)", 
      "for k in range(1,N/2+1):", 
      "    s += 4*f(a + (2*k -1)*h)", 
      "for k in range(1,N/2):", 
      "    s += 2*f(a + 2*k*h)", 
      "print(h/3*s)"
     ], 
     "language": "python", 
     "outputs": [
      {
       "output_type": "stream", 
       "stream": "stdout", 
       "text": [
        "4.4"
       ]
      }
     ], 
     "prompt_number": 50
    }, 
    {
     "cell_type": "markdown", 
     "source": [
      "The integral becomes more and more accurate the more we slice it up, even more accurate than the trapazoidal rule."
     ]
    }, 
    {
     "cell_type": "code", 
     "collapsed": true, 
     "input": [
      "import scipy.integrate as integrate"
     ], 
     "language": "python", 
     "outputs": [], 
     "prompt_number": 51
    }, 
    {
     "cell_type": "code", 
     "collapsed": false, 
     "input": [
      "#help(integrate)"
     ], 
     "language": "python", 
     "outputs": [], 
     "prompt_number": 53
    }, 
    {
     "cell_type": "markdown", 
     "source": [
      "Example 2: General Integration (quad)"
     ]
    }, 
    {
     "cell_type": "code", 
     "collapsed": false, 
     "input": [
      "from scipy.special import jv", 
      "result = integrate.quad(lambda x: scipy.special.jv(2.5,x), 0, 4.5)", 
      "print result"
     ], 
     "language": "python", 
     "outputs": [
      {
       "output_type": "stream", 
       "stream": "stdout", 
       "text": [
        "(1.1178179380783249, 7.866317182537226e-09)"
       ]
      }
     ], 
     "prompt_number": 57
    }, 
    {
     "cell_type": "markdown", 
     "source": [
      "Excercise 3"
     ]
    }, 
    {
     "cell_type": "code", 
     "collapsed": false, 
     "input": [
      "#this is very impressive", 
      "theta = linspace(0,0.3,pi)", 
      "Iwrong = integrate.trapz(theta,cos(theta))", 
      "print Iwrong"
     ], 
     "language": "python", 
     "outputs": [
      {
       "output_type": "stream", 
       "stream": "stdout", 
       "text": [
        "-0.00836495163714"
       ]
      }
     ], 
     "prompt_number": 59
    }, 
    {
     "cell_type": "code", 
     "collapsed": false, 
     "input": [
      "theta = linspace(0,pi,0.3)", 
      "Iwrong = integrate.trapz(theta,cos(theta))", 
      "print Iwrong"
     ], 
     "language": "python", 
     "outputs": [
      {
       "output_type": "stream", 
       "stream": "stdout", 
       "text": [
        "0.0"
       ]
      }
     ], 
     "prompt_number": 60
    }, 
    {
     "cell_type": "code", 
     "collapsed": true, 
     "input": [], 
     "language": "python", 
     "outputs": []
    }
   ]
  }
 ]
}