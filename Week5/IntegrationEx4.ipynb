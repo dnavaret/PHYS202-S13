{
 "metadata": {
  "name": "IntegrationEx4"
 }, 
 "nbformat": 2, 
 "worksheets": [
  {
   "cells": [
    {
     "cell_type": "markdown", 
     "source": [
      "Numerical Integration, Excersises 4", 
      "===================================", 
      "___________________________________"
     ]
    }, 
    {
     "cell_type": "markdown", 
     "source": [
      "(1) Consider the equation:", 
      "", 
      "\\begin{equation}", 
      "E(x)=\\int_0^xe^{-t^2}dt", 
      "\\end{equation}"
     ]
    }, 
    {
     "cell_type": "markdown", 
     "source": [
      "(a) Write code to calculate E(x) for values of x from 0 to 3 in steps of 0.1. Choose for", 
      "yourself what method you will use for performing the integral and a suitable number of", 
      "slices."
     ]
    }, 
    {
     "cell_type": "code", 
     "collapsed": false, 
     "input": [
      "f = lambda t: exp(-t**2)"
     ], 
     "language": "python", 
     "outputs": [], 
     "prompt_number": 60
    }, 
    {
     "cell_type": "code", 
     "collapsed": true, 
     "input": [
      "import math", 
      "import numpy as np"
     ], 
     "language": "python", 
     "outputs": [], 
     "prompt_number": 61
    }, 
    {
     "cell_type": "code", 
     "collapsed": false, 
     "input": [
      "def traprule(a,b,f,dt):", 
      "    N=1000", 
      "    a=0.0", 
      "    b=3.0", 
      "    h=((b-a)/N)", 
      "    s=0.5*f(a)+0.5*f(b)", 
      "    for i in range(1,N):", 
      "        s += f(a+i*h)", 
      "    print(h*s)", 
      "traprule(0.,3.,f,0.1)"
     ], 
     "language": "python", 
     "outputs": [
      {
       "output_type": "stream", 
       "stream": "stdout", 
       "text": [
        "0.886207347704"
       ]
      }
     ], 
     "prompt_number": 62
    }, 
    {
     "cell_type": "code", 
     "collapsed": false, 
     "input": [
      "print traprule(0,3,f,.1)"
     ], 
     "language": "python", 
     "outputs": [
      {
       "output_type": "stream", 
       "stream": "stdout", 
       "text": [
        "0.886207347704", 
        "None"
       ]
      }
     ], 
     "prompt_number": 63
    }, 
    {
     "cell_type": "markdown", 
     "source": [
      "(b) Graph E(x):"
     ]
    }, 
    {
     "cell_type": "code", 
     "collapsed": false, 
     "input": [
      "x=arange(0.,3.,0.1)", 
      "myplot=plot(x,f(x),lw=3)", 
      "ylabel(r'$E(x)=e^{-x^2}$', fontsize=20)", 
      "xlabel(r'$x$', fontsize=20)", 
      "xlim(0.,3.)", 
      "", 
      "show()"
     ], 
     "language": "python", 
     "outputs": [
      {
       "output_type": "display_data", 
       "png": "[encoded data removed]"
      }
     ], 
     "prompt_number": 32
    }, 
    {
     "cell_type": "markdown", 
     "source": [
      "(2) Consider a particle in a one-dimensional box of width L. The probability of finding the", 
      "particle between a and b is given by"
     ]
    }, 
    {
     "cell_type": "markdown", 
     "source": [
      "\\begin{equation}", 
      "P(a,b)=\\int_a^b|\\psi(x)|^2dx", 
      "\\end{equation}"
     ]
    }, 
    {
     "cell_type": "markdown", 
     "source": [
      "$\\psi(x)$ is the wavefunction. (You may need to look in a modern physics or chemistry", 
      "text to get the wave functions for a particle in a box.)"
     ]
    }, 
    {
     "cell_type": "markdown", 
     "source": [
      "(a) What is the probability of finding the particle between L/3 and L/2 for the ground", 
      "state and for the first excited state? Perform the integral using both trapz and quad with", 
      "an accuracy of 6 sig figs. How many bins did you need to use for trapz?"
     ]
    }, 
    {
     "cell_type": "code", 
     "collapsed": false, 
     "input": [
      "from scipy.integrate import trapz", 
      "from scipy.integrate import quad"
     ], 
     "language": "python", 
     "outputs": [], 
     "prompt_number": 118
    }, 
    {
     "cell_type": "code", 
     "collapsed": false, 
     "input": [
      "ground = lambda p: (2.)*sin((pi*p)**2)"
     ], 
     "language": "python", 
     "outputs": [], 
     "prompt_number": 156
    }, 
    {
     "cell_type": "code", 
     "collapsed": false, 
     "input": [
      "import scipy.integrate as integrate", 
      "#help(integrate)"
     ], 
     "language": "python", 
     "outputs": [], 
     "prompt_number": 157
    }, 
    {
     "cell_type": "code", 
     "collapsed": false, 
     "input": [
      "#trap for ground", 
      "", 
      "", 
      "    N = 150", 
      "    a = (0.3333)", 
      "    b = (0.5)", 
      "    h = (b-a)/N", 
      "    s = 0.5*ground(a) + 0.5*ground(b)", 
      "    for k in range(1,N):", 
      "        s += ground(a+k*h)", 
      "    print(h*s)", 
      "trapground()"
     ], 
     "language": "python", 
     "outputs": [
      {
       "output_type": "stream", 
       "stream": "stdout", 
       "text": [
        "0.303707000021"
       ]
      }
     ], 
     "prompt_number": 158
    }, 
    {
     "cell_type": "code", 
     "collapsed": false, 
     "input": [
      "#trap for firstexcited", 
      "def trapexcite(): ", 
      "    N = 10", 
      "    n = 2", 
      "    f = lambda p: (2.)*sin((pi*p*n)**2)", 
      "    a = (0.3333)", 
      "    b = (0.5)", 
      "    h = (b-a)/N", 
      "    s = 0.5*f(a) + 0.5*f(b)", 
      "    for k in range(1,N):", 
      "        s += f(a+k*h)", 
      "    print(h*s)", 
      "trapexcite()", 
      "    "
     ], 
     "language": "python", 
     "outputs": [
      {
       "output_type": "stream", 
       "stream": "stdout", 
       "text": [
        "0.0143454588226"
       ]
      }
     ], 
     "prompt_number": 165
    }, 
    {
     "cell_type": "code", 
     "collapsed": false, 
     "input": [
      "#quad for ground", 
      "L = 1.", 
      "N = 10", 
      "a = 0.3333", 
      "b = 0.5", 
      "h = (b-a)/N", 
      "ground = lambda p: (2.)*(sin(pi*p))**2", 
      "", 
      "print quad(ground,a,b)"
     ], 
     "language": "python", 
     "outputs": [
      {
       "output_type": "stream", 
       "stream": "stdout", 
       "text": [
        "(0.30454888749899384, 3.3811718702535945e-15)"
       ]
      }
     ], 
     "prompt_number": 168
    }, 
    {
     "cell_type": "code", 
     "collapsed": false, 
     "input": [
      "#quad for firstexcited", 
      "L = 1.", 
      "N = 10", 
      "a = 0.3333", 
      "b = 0.5", 
      "h = (b-a)/N", 
      "firstexcited = lambda p: (2.)*(sin(2*pi*p))**2", 
      "    ", 
      "print quad(firstexcited,a,b)", 
      ""
     ], 
     "language": "python", 
     "outputs": [
      {
       "output_type": "stream", 
       "stream": "stdout", 
       "text": [
        "(0.09780056078445315, 1.0858043440415204e-15)"
       ]
      }
     ], 
     "prompt_number": 169
    }, 
    {
     "cell_type": "markdown", 
     "source": [
      "(b) To see if these make sense make a plot of $|\u03c8(x)|^2$ vs. x for L=1."
     ]
    }, 
    {
     "cell_type": "code", 
     "collapsed": false, 
     "input": [
      "#for ground ", 
      "x=arange(0.0,3.,0.1)", 
      "ground = lambda x: (2.)*(sin(pi*x))**2", 
      "plot(x,ground(x))"
     ], 
     "language": "python", 
     "outputs": [
      {
       "output_type": "pyout", 
       "prompt_number": 177, 
       "text": [
        "[<matplotlib.lines.Line2D at 0x7fa8acba7a50>]"
       ]
      }, 
      {
       "output_type": "display_data", 
       "png": "[encoded data removed]"
      }
     ], 
     "prompt_number": 177
    }, 
    {
     "cell_type": "code", 
     "collapsed": false, 
     "input": [
      "#for excited", 
      "x=arange(0.0,3.0,0.1)", 
      "excited = lambda x: (2.)*sin((pi*x*2))**2", 
      "plot(x,excited(x))"
     ], 
     "language": "python", 
     "outputs": [
      {
       "output_type": "pyout", 
       "prompt_number": 183, 
       "text": [
        "[<matplotlib.lines.Line2D at 0x7fa8ad4e0510>]"
       ]
      }, 
      {
       "output_type": "display_data", 
       "png": "[encoded data removed]"
      }
     ], 
     "prompt_number": 183
    }, 
    {
     "cell_type": "code", 
     "collapsed": true, 
     "input": [], 
     "language": "python", 
     "outputs": []
    }
   ]
  }
 ]
}