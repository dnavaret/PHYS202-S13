{
 "metadata": {
  "name": "Data InOut and Linear Regression"
 },
 "nbformat": 3,
 "nbformat_minor": 0,
 "worksheets": [
  {
   "cells": [
    {
     "cell_type": "markdown",
     "metadata": {},
     "source": [
      "Data I/O\n",
      "--------"
     ]
    },
    {
     "cell_type": "code",
     "collapsed": false,
     "input": [
      "DataIn = loadtxt('input.dat')\n",
      "print DataIn.shape\n",
      "print DataIn"
     ],
     "language": "python",
     "metadata": {},
     "outputs": [],
     "prompt_number": 1
    },
    {
     "cell_type": "code",
     "collapsed": false,
     "input": [
      "print DataIn[:,2] #prints third column, python counts at 0 first\n"
     ],
     "language": "python",
     "metadata": {},
     "outputs": [],
     "prompt_number": 2
    },
    {
     "cell_type": "code",
     "collapsed": false,
     "input": [
      "x,y,yerr=loadtxt('input.dat',unpack=True)\n",
      "print x \n",
      "print y\n",
      "print yerr\n"
     ],
     "language": "python",
     "metadata": {},
     "outputs": [
      {
       "output_type": "stream",
       "stream": "stdout",
       "text": [
        "[ 0.  2.  4.  6.  8.]\n",
        "[ 1.1  1.9  3.2  4.   5.9]\n",
        "[ 0.1  0.2  0.1  0.3  0.3]\n"
       ]
      }
     ],
     "prompt_number": 3
    },
    {
     "cell_type": "code",
     "collapsed": false,
     "input": [
      "x,y=loadtxt('input.dat',unpack=True,usecols=[0,1])\n",
      "print x\n",
      "print y\n"
     ],
     "language": "python",
     "metadata": {},
     "outputs": [
      {
       "output_type": "stream",
       "stream": "stdout",
       "text": [
        "[ 0.  2.  4.  6.  8.]\n",
        "[ 1.1  1.9  3.2  4.   5.9]\n"
       ]
      }
     ],
     "prompt_number": 4
    },
    {
     "cell_type": "markdown",
     "metadata": {},
     "source": [
      "Dealing with csv files\n",
      "----------------------"
     ]
    },
    {
     "cell_type": "code",
     "collapsed": false,
     "input": [
      "x,y=loadtxt('input.csv',unpack=True, delimiter=',',usecols=[0,1])"
     ],
     "language": "python",
     "metadata": {},
     "outputs": [],
     "prompt_number": 5
    },
    {
     "cell_type": "code",
     "collapsed": false,
     "input": [
      "print x,y"
     ],
     "language": "python",
     "metadata": {},
     "outputs": [
      {
       "output_type": "stream",
       "stream": "stdout",
       "text": [
        "[ 0.  2.  4.  6.  8.] [ 1.1  1.9  3.2  4.   5.9]\n"
       ]
      }
     ],
     "prompt_number": 6
    },
    {
     "cell_type": "code",
     "collapsed": false,
     "input": [
      "#x,y=loadtxt('input.csv',unpack=True,usecols=[0,1])\n",
      "#to see the error\n"
     ],
     "language": "python",
     "metadata": {},
     "outputs": [],
     "prompt_number": 7
    },
    {
     "cell_type": "markdown",
     "metadata": {},
     "source": [
      "Writing data to a file.\n",
      "-----------------------"
     ]
    },
    {
     "cell_type": "code",
     "collapsed": false,
     "input": [
      "t=array([0.0,0.1,0.2,0.3,0.4,0.5,0.6,0.7,0.9])\n",
      "v = array([0.137,0.456,0.591,0.713,0.859,0.926,1.139,1.512,1.875])"
     ],
     "language": "python",
     "metadata": {},
     "outputs": [],
     "prompt_number": 8
    },
    {
     "cell_type": "code",
     "collapsed": false,
     "input": [
      "p=0.15+v/10.0"
     ],
     "language": "python",
     "metadata": {},
     "outputs": [],
     "prompt_number": 9
    },
    {
     "cell_type": "code",
     "collapsed": false,
     "input": [
      "print p"
     ],
     "language": "python",
     "metadata": {},
     "outputs": [
      {
       "output_type": "stream",
       "stream": "stdout",
       "text": [
        "[ 0.1637  0.1956  0.2091  0.2213  0.2359  0.2426  0.2639  0.3012  0.3375]\n"
       ]
      }
     ],
     "prompt_number": 10
    },
    {
     "cell_type": "code",
     "collapsed": false,
     "input": [
      "print len(p)\n",
      "print len(v)"
     ],
     "language": "python",
     "metadata": {},
     "outputs": [
      {
       "output_type": "stream",
       "stream": "stdout",
       "text": [
        "9\n",
        "9\n"
       ]
      }
     ],
     "prompt_number": 11
    },
    {
     "cell_type": "code",
     "collapsed": false,
     "input": [
      "savetxt('output.dat',(t,p))"
     ],
     "language": "python",
     "metadata": {},
     "outputs": [],
     "prompt_number": 12
    },
    {
     "cell_type": "code",
     "collapsed": false,
     "input": [
      "DataOut=column_stack((t,p))\n",
      "savetxt('output.dat',DataOut)"
     ],
     "language": "python",
     "metadata": {},
     "outputs": [],
     "prompt_number": 13
    },
    {
     "cell_type": "code",
     "collapsed": false,
     "input": [
      "savetxt('output.dat',DataOut,fmt=('%3i','%4.3f'))\n"
     ],
     "language": "python",
     "metadata": {},
     "outputs": [],
     "prompt_number": 14
    },
    {
     "cell_type": "code",
     "collapsed": false,
     "input": [
      "f = open(\"output.dat\",\"w\")\n",
      "f.write(\"#my comment line for this file, followed by a blank line, then the data\\n\\n\")\n",
      "savetxt(f,DataOut,fmt=('%3i','%4.3f'))\n",
      "f.close()\n"
     ],
     "language": "python",
     "metadata": {},
     "outputs": [],
     "prompt_number": 15
    },
    {
     "cell_type": "markdown",
     "metadata": {},
     "source": [
      "Exercise 1.\n",
      "-----------"
     ]
    },
    {
     "cell_type": "code",
     "collapsed": false,
     "input": [
      "time = 1, 2, 3, 4, 5, 6, 7, 8, 9, 10\n",
      "pos = 7.75, 7.33, 6.89, 6.45, 5.96, 5.55, 5.10, 4.49, 3.93, 3.58\n",
      "uncert = 0.02, 0.03, 0.03, 0.04, 0.05, 0.06, 0.08, 0.11, 0.14, 0.17"
     ],
     "language": "python",
     "metadata": {},
     "outputs": [],
     "prompt_number": 16
    },
    {
     "cell_type": "code",
     "collapsed": false,
     "input": [
      "savetxt('linearData.dat', (time, pos,uncert))\n",
      "Out = column_stack((time, pos, uncert))\n",
      "savetxt('linearData.dat', Out)\n",
      "g = open('linearData.dat', \"w\")\n",
      "g.write(\"#This file holds the data (time pos and uncertainty) for excercise two\")\n",
      "savetxt(g, Out, fmt = ('%i', '%5.2f', '%5.2f'))\n",
      "g.close()"
     ],
     "language": "python",
     "metadata": {},
     "outputs": [],
     "prompt_number": 17
    },
    {
     "cell_type": "markdown",
     "metadata": {},
     "source": [
      "Exercise 2.\n",
      "-----------"
     ]
    },
    {
     "cell_type": "code",
     "collapsed": false,
     "input": [
      "def LinearLeastSquaresFit(x,y):\n",
      "      \"\"\"Take in arrays representing (x,y) values for a set of linearly\n",
      "      varying data and perfom a linear least squares regression. Return \n",
      "      resulting slope and intercept parameters of the best fit line \n",
      "      with their uncertainties.\"\"\"\n",
      "      avgX = np.sum(x)/len(x) #x avg\n",
      "      avgX2 = np.sum(x**2)/len(x**2) # x**2 avg\n",
      "      avgY = np.sum(y)/len(y) #y avg\n",
      "      avgXY = np.sum(x*y)/len(x*y) #x**y avg\n",
      "      slope = (avgXY-(avgX*avgY))/(avgX2-(avgX**2))\n",
      "      intercept = (avgX2*avgY - (avgX*avgXY))/(avgX2-(avgX**2))\n",
      "      dev = y - (slope*x + intercept) #deviation to get deviation**2\n",
      "      dev2 = np.sum(dev**2)/len(x) #deviation**2 formula\n",
      "      slerr = np.sqrt((1/(len(x)-2.))*(dev2/(avgX2 - (avgX**2))))\n",
      "      interr = np.sqrt((1/(len(x)-2.))*((dev2*avgX2)/(avgX2 - (avgX**2))))\n",
      "      return slope,intercept,slerr,interr"
     ],
     "language": "python",
     "metadata": {},
     "outputs": [],
     "prompt_number": 18
    },
    {
     "cell_type": "code",
     "collapsed": false,
     "input": [
      "x, y = loadtxt('linearData.dat', unpack = True, usecols = [0, 1])\n",
      "print LinearLeastSquaresFit(x,y)"
     ],
     "language": "python",
     "metadata": {},
     "outputs": [
      {
       "output_type": "stream",
       "stream": "stdout",
       "text": [
        "(-0.47766666666666691, 8.3415555555555567, 0.0089569812564006691, 0.058506756570278998)\n"
       ]
      }
     ],
     "prompt_number": 19
    },
    {
     "cell_type": "code",
     "collapsed": false,
     "input": [
      "slope = LinearLeastSquaresFit(x,y)[0]\n",
      "print slope\n",
      "intercept = LinearLeastSquaresFit(x,y)[1]\n",
      "print intercept\n",
      "slerr = LinearLeastSquaresFit(x,y)[2]\n",
      "print slerr\n",
      "interr = LinearLeastSquaresFit(x,y)[3]\n",
      "print interr"
     ],
     "language": "python",
     "metadata": {},
     "outputs": [
      {
       "output_type": "stream",
       "stream": "stdout",
       "text": [
        "-0.477666666667\n",
        "8.34155555556\n",
        "0.0089569812564\n",
        "0.0585067565703\n"
       ]
      }
     ],
     "prompt_number": 20
    },
    {
     "cell_type": "markdown",
     "metadata": {},
     "source": [
      "Values are a bit off. "
     ]
    },
    {
     "cell_type": "code",
     "collapsed": false,
     "input": [
      "F = lambda x: slope*x + intercept #zero error\n",
      "F_UpperError = lambda x: (slope+slerr)*x + (intercept+interr) #upper error \n",
      "F_LowerError = lambda x: (slope-slerr)*x + (intercept-interr) #lower error\n",
      "plot(x,F(x),label= \"Zero Error\")\n",
      "plot(x,F_UpperError(x),'r-',label='Upper Error')\n",
      "plot(x,F_LowerError(x),'m-',label='Lower Error')\n",
      "linelabel = \"y = %.4f x + %.4f\" % (slope,intercept)\n",
      "legend(loc='upper right')\n",
      "show()"
     ],
     "language": "python",
     "metadata": {},
     "outputs": [
      {
       "output_type": "display_data",
       "png": "[encoded data removed]"
      }
     ],
     "prompt_number": 21
    },
    {
     "cell_type": "markdown",
     "metadata": {},
     "source": [
      "Exercise 3.\n",
      "-----------"
     ]
    },
    {
     "cell_type": "code",
     "collapsed": false,
     "input": [
      "def WeightedLinearLeastSquaresFit(x,y,w):\n",
      "    \"\"\"Take in arrays representing (x,y) values for a set of linearly varying data\n",
      "    and an array of weights w. Preform a weighted linear least squares regression.\n",
      "    Return the resulting slope and intercept parameters of the best fit line with\n",
      "    their uncertainties.\"\"\"\n",
      "    wsum = np.sum(w)\n",
      "    w_x = np.sum(w*x) #weighted x sum\n",
      "    w_x2 = np.sum(w*(x**2)) #weighted x**2 sum\n",
      "    w_y = np.sum(w*y) #weighted y sum\n",
      "    w_xy = np.sum(w*x*y) #weighted x*y sum\n",
      "    slope = (wsum*w_xy - w_x*w_y)/(wsum*w_x2 - w_x**2) #slope formula\n",
      "    intercept = (w_x2*w_y - w_x*w_xy)/(wsum*w_x2 - w_x**2) #intercept\n",
      "    if sum(w)/len(w) == 1:\n",
      "        avgX = np.sum(x)/len(x)\n",
      "        avgX2 = np.sum(x**2)/len(x**2)\n",
      "        avgY = np.sum(y)/len(y)\n",
      "        avgXY = np.sum(x*y)/len(x*y)\n",
      "        dev = y - (slope*x + intercept)\n",
      "        dev2 = np.sum(deviation**2)/len(x) \n",
      "        slerr = np.sqrt((1/(len(x)-2.))*(dev2/(avgX2 - (avgX**2))))\n",
      "        interr = np.sqrt((1/(len(x)-2.))*((dev2*avgX2)/(avgX2 - (avgX**2))))\n",
      "    else:\n",
      "        slerr = np.sqrt(wsum/((wsum*w_x2) - (w_x**2))) #weighted slope error\n",
      "        interr = np.sqrt(w_x2/(wsum*w_x2 - w_x**2)) #weighted intercept error\n",
      "    return slope,slerr,intercept,interr"
     ],
     "language": "python",
     "metadata": {},
     "outputs": [],
     "prompt_number": 22
    },
    {
     "cell_type": "code",
     "collapsed": false,
     "input": [
      "x,y,z = loadtxt('linearData.dat', unpack=True, usecols=[0,1,2])\n",
      "w = 1/(z**2)\n",
      "print WeightedLinearLeastSquaresFit(x,y,w)"
     ],
     "language": "python",
     "metadata": {},
     "outputs": [
      {
       "output_type": "stream",
       "stream": "stdout",
       "text": [
        "(-0.46178496476011316, 0.0091313601363285871, 8.2723670812840009, 0.037517301398254488)\n"
       ]
      }
     ],
     "prompt_number": 23
    },
    {
     "cell_type": "markdown",
     "metadata": {},
     "source": [
      "Values slightly off again =("
     ]
    },
    {
     "cell_type": "code",
     "collapsed": false,
     "input": [
      "mL = LinearLeastSquaresFit(x,y)[0] #assign column values next 4 lines\n",
      "intL = LinearLeastSquaresFit(x,y)[1]\n",
      "mw = WeightedLinearLeastSquaresFit(x,y,w)[0]\n",
      "intw = WeightedLinearLeastSquaresFit(x,y,w)[2]\n",
      "fL = lambda x: mL*x + intL\n",
      "fw = lambda x: mw*x + intw\n",
      "linelabel = \"y = %.4f x + %.4f\" %(mL,intL)\n",
      "weightedlinelabel = \"weighted_y = %.4f x + %.4f\" %(mw,intw)\n",
      "plot(x,fL(x),label=linelabel)\n",
      "plot(x,fw(x),label=weightedlinelabel)\n",
      "errorbar(x,y,z,label='error')\n",
      "legend(loc=\"lower left\")\n",
      "show()"
     ],
     "language": "python",
     "metadata": {},
     "outputs": [
      {
       "output_type": "display_data",
       "png": "[encoded data removed]"
      }
     ],
     "prompt_number": 24
    }
   ],
   "metadata": {}
  }
 ]
}