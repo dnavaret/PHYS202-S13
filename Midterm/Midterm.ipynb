{
 "metadata": {
  "name": "Midterm"
 }, 
 "nbformat": 2, 
 "worksheets": [
  {
   "cells": [
    {
     "cell_type": "markdown", 
     "source": [
      "(1) Created Plegde.md in main repo. "
     ]
    }, 
    {
     "cell_type": "markdown", 
     "source": [
      "(2) Plotting"
     ]
    }, 
    {
     "cell_type": "code", 
     "collapsed": true, 
     "input": [
      "import math", 
      "import numpy as np"
     ], 
     "language": "python", 
     "outputs": [], 
     "prompt_number": 2
    }, 
    {
     "cell_type": "code", 
     "collapsed": false, 
     "input": [
      "i=1j", 
      "", 
      "t = np.arange(-pi, pi, .1)", 
      "s = np.cos(((2*t)*cos(t/2))**2)", 
      "", 
      "", 
      "plot(t,s, 'b*', label = \"$y$\")", 
      "plot(t,s, 'r-', label = \"$y$\")", 
      "", 
      "xlabel(r\"$\\theta$(rad)\")", 
      "ylabel(\"intensity\")", 
      "", 
      "", 
      "xticks( [-np.pi, -np.pi/2, 0, np.pi/2, np.pi], [r'$-\\pi$', r'$-\\pi/2$', r'$0$', r'$+\\pi/2$', r'$+\\pi$'])"
     ], 
     "language": "python", 
     "outputs": [
      {
       "output_type": "pyout", 
       "prompt_number": 47, 
       "text": [
        "([<matplotlib.axis.XTick at 0xc38a150>,", 
        "  <matplotlib.axis.XTick at 0xc38a0d0>,", 
        "  <matplotlib.axis.XTick at 0xc483890>,", 
        "  <matplotlib.axis.XTick at 0xc483e90>,", 
        "  <matplotlib.axis.XTick at 0xc487550>],", 
        " <a list of 5 Text xticklabel objects>)"
       ]
      }, 
      {
       "output_type": "display_data", 
       "png": "[encoded data removed]"
      }
     ], 
     "prompt_number": 47
    }, 
    {
     "cell_type": "markdown", 
     "source": [
      "(b)"
     ]
    }, 
    {
     "cell_type": "code", 
     "collapsed": false, 
     "input": [
      "x = np.arange(-6., 6.,2.)", 
      "y = ((1+x)/(1-x))", 
      "r = exp(-x)", 
      "", 
      "", 
      "", 
      "plot(x,y, 'b-', label = r'$\\frac{1+t}{1-t}=f(x)$')", 
      "plot(x,r, 'r--', label = r'$e^{-t}$')", 
      "legend(loc = \"lower left\")", 
      "", 
      "xlabel(\"time(seconds)\")", 
      "ylabel(\"f(t),g(t)\")", 
      "", 
      "xticks([-4, -2, 0, 2, 4])", 
      "", 
      "yticks([-10,-5,0,5,10])"
     ], 
     "language": "python", 
     "outputs": [
      {
       "output_type": "pyout", 
       "prompt_number": 105, 
       "text": [
        "([<matplotlib.axis.YTick at 0xeb0aa50>,", 
        "  <matplotlib.axis.YTick at 0xeb0ecd0>,", 
        "  <matplotlib.axis.YTick at 0xf065510>,", 
        "  <matplotlib.axis.YTick at 0xf065c90>,", 
        "  <matplotlib.axis.YTick at 0xecebcd0>],", 
        " <a list of 5 Text yticklabel objects>)"
       ]
      }, 
      {
       "output_type": "display_data", 
       "png": "[encoded data removed]"
      }
     ], 
     "prompt_number": 105
    }, 
    {
     "cell_type": "markdown", 
     "source": [
      "(3)Functions and Integration"
     ]
    }, 
    {
     "cell_type": "markdown", 
     "source": [
      "(a)"
     ]
    }, 
    {
     "cell_type": "code", 
     "collapsed": false, 
     "input": [
      "from electrostatics import *"
     ], 
     "language": "python", 
     "outputs": [], 
     "prompt_number": 106
    }, 
    {
     "cell_type": "markdown", 
     "source": [
      "(b)"
     ]
    }, 
    {
     "cell_type": "code", 
     "collapsed": true, 
     "input": [
      "import scipy.integrate as integrate"
     ], 
     "language": "python", 
     "outputs": [], 
     "prompt_number": 128
    }, 
    {
     "cell_type": "code", 
     "collapsed": false, 
     "input": [
      "help(integrate.quad)"
     ], 
     "language": "python", 
     "outputs": [
      {
       "output_type": "stream", 
       "stream": "stdout", 
       "text": [
        "Help on function quad in module scipy.integrate.quadpack:", 
        "", 
        "quad(func, a, b, args=(), full_output=0, epsabs=1.49e-08, epsrel=1.49e-08, limit=50, points=None, weight=None, wvar=None, wopts=None, maxp1=50, limlst=50)", 
        "    Compute a definite integral.", 
        "    ", 
        "    Integrate func from a to b (possibly infinite interval) using a technique", 
        "    from the Fortran library QUADPACK.", 
        "    ", 
        "    If func takes many arguments, it is integrated along the axis corresponding", 
        "    to the first argument. Use the keyword argument `args` to pass the other", 
        "    arguments.", 
        "    ", 
        "    Run scipy.integrate.quad_explain() for more information on the", 
        "    more esoteric inputs and outputs.", 
        "    ", 
        "    Parameters", 
        "    ----------", 
        "    ", 
        "    func : function", 
        "        A Python function or method to integrate.", 
        "    a : float", 
        "        Lower limit of integration (use -scipy.integrate.Inf for -infinity).", 
        "    b : float", 
        "        Upper limit of integration (use scipy.integrate.Inf for +infinity).", 
        "    args : tuple, optional", 
        "        extra arguments to pass to func", 
        "    full_output : int", 
        "        Non-zero to return a dictionary of integration information.", 
        "        If non-zero, warning messages are also suppressed and the", 
        "        message is appended to the output tuple.", 
        "    ", 
        "    Returns", 
        "    -------", 
        "    ", 
        "    y : float", 
        "        The integral of func from a to b.", 
        "    abserr : float", 
        "        an estimate of the absolute error in the result.", 
        "    ", 
        "    infodict : dict", 
        "        a dictionary containing additional information.", 
        "        Run scipy.integrate.quad_explain() for more information.", 
        "    message :", 
        "        a convergence message.", 
        "    explain :", 
        "        appended only with 'cos' or 'sin' weighting and infinite", 
        "        integration limits, it contains an explanation of the codes in", 
        "        infodict['ierlst']", 
        "    ", 
        "    Other Parameters", 
        "    ----------------", 
        "    epsabs :", 
        "        absolute error tolerance.", 
        "    epsrel :", 
        "        relative error tolerance.", 
        "    limit :", 
        "        an upper bound on the number of subintervals used in the adaptive", 
        "        algorithm.", 
        "    points :", 
        "        a sequence of break points in the bounded integration interval", 
        "        where local difficulties of the integrand may occur (e.g.,", 
        "        singularities, discontinuities). The sequence does not have", 
        "        to be sorted.", 
        "    weight :", 
        "        string indicating weighting function.", 
        "    wvar :", 
        "        variables for use with weighting functions.", 
        "    limlst :", 
        "        Upper bound on the number of cylces (>=3) for use with a sinusoidal", 
        "        weighting and an infinite end-point.", 
        "    wopts :", 
        "        Optional input for reusing Chebyshev moments.", 
        "    maxp1 :", 
        "        An upper bound on the number of Chebyshev moments.", 
        "    ", 
        "    See Also", 
        "    --------", 
        "    dblquad, tplquad : double and triple integrals", 
        "    fixed_quad : fixed-order Gaussian quadrature", 
        "    quadrature : adaptive Gaussian quadrature", 
        "    odeint, ode : ODE integrators", 
        "    simps, trapz, romb : integrators for sampled data", 
        "    scipy.special : for coefficients and roots of orthogonal polynomials", 
        "    ", 
        "    Examples", 
        "    --------", 
        "    Calculate :math:`\\int^4_0 x^2 dx` and compare with an analytic result", 
        "    ", 
        "    >>> from scipy import integrate", 
        "    >>> x2 = lambda x: x**2", 
        "    >>> integrate.quad(x2,0.,4.)", 
        "    (21.333333333333332, 2.3684757858670003e-13)", 
        "    >> print 4.**3/3", 
        "    21.3333333333", 
        "    ", 
        "    Calculate :math:`\\int^\\infty_0 e^{-x} dx`", 
        "    ", 
        "    >>> invexp = lambda x: exp(-x)", 
        "    >>> integrate.quad(invexp,0,inf)", 
        "    (0.99999999999999989, 5.8426061711142159e-11)", 
        "    ", 
        "    >>> f = lambda x,a : a*x", 
        "    >>> y, err = integrate.quad(f, 0, 1, args=(1,))", 
        "    >>> y", 
        "    0.5", 
        "    >>> y, err = integrate.quad(f, 0, 1, args=(3,))", 
        "    >>> y", 
        "    1.5", 
        ""
       ]
      }
     ], 
     "prompt_number": 129
    }, 
    {
     "cell_type": "code", 
     "collapsed": false, 
     "input": [
      "integrate.quad(pointField(x,y,1*10**-9,3,3),1,2)"
     ], 
     "language": "python", 
     "outputs": [
      {
       "ename": "TypeError", 
       "evalue": "'float' object is not callable", 
       "output_type": "pyerr", 
       "traceback": [
        "\u001b[1;31m---------------------------------------------------------------------------\u001b[0m\n\u001b[1;31mTypeError\u001b[0m                                 Traceback (most recent call last)", 
        "\u001b[1;32m/home/david/School/PHYS202-S13/Midterm/<ipython-input-138-506452c166cb>\u001b[0m in \u001b[0;36m<module>\u001b[1;34m()\u001b[0m\n\u001b[1;32m----> 1\u001b[1;33m \u001b[0mintegrate\u001b[0m\u001b[1;33m.\u001b[0m\u001b[0mquad\u001b[0m\u001b[1;33m(\u001b[0m\u001b[0mpointField\u001b[0m\u001b[1;33m(\u001b[0m\u001b[0mx\u001b[0m\u001b[1;33m,\u001b[0m\u001b[0my\u001b[0m\u001b[1;33m,\u001b[0m\u001b[1;36m1\u001b[0m\u001b[1;33m*\u001b[0m\u001b[1;36m10\u001b[0m\u001b[1;33m**\u001b[0m\u001b[1;33m-\u001b[0m\u001b[1;36m9\u001b[0m\u001b[1;33m,\u001b[0m\u001b[1;36m3\u001b[0m\u001b[1;33m,\u001b[0m\u001b[1;36m3\u001b[0m\u001b[1;33m)\u001b[0m\u001b[1;33m,\u001b[0m\u001b[1;36m1\u001b[0m\u001b[1;33m,\u001b[0m\u001b[1;36m2\u001b[0m\u001b[1;33m)\u001b[0m\u001b[1;33m\u001b[0m\u001b[0m\n\u001b[0m", 
        "\u001b[1;32m/home/david/School/PHYS202-S13/Midterm/<ipython-input-124-19e18fc10515>\u001b[0m in \u001b[0;36mpointField\u001b[1;34m(x, y, q, Xq, Yq)\u001b[0m\n\u001b[0;32m      4\u001b[0m     \u001b[0mb\u001b[0m\u001b[1;33m=\u001b[0m\u001b[1;36m2.0\u001b[0m\u001b[1;33m\u001b[0m\u001b[0m\n\u001b[0;32m      5\u001b[0m     \u001b[0mh\u001b[0m\u001b[1;33m=\u001b[0m\u001b[1;33m(\u001b[0m\u001b[1;33m(\u001b[0m\u001b[0mb\u001b[0m\u001b[1;33m-\u001b[0m\u001b[0ma\u001b[0m\u001b[1;33m)\u001b[0m\u001b[1;33m/\u001b[0m\u001b[0mN\u001b[0m\u001b[1;33m)\u001b[0m\u001b[1;33m\u001b[0m\u001b[0m\n\u001b[1;32m----> 6\u001b[1;33m     \u001b[0ms\u001b[0m\u001b[1;33m=\u001b[0m\u001b[1;36m0.5\u001b[0m\u001b[1;33m*\u001b[0m\u001b[0mf\u001b[0m\u001b[1;33m(\u001b[0m\u001b[0ma\u001b[0m\u001b[1;33m)\u001b[0m\u001b[1;33m+\u001b[0m\u001b[1;36m0.5\u001b[0m\u001b[1;33m*\u001b[0m\u001b[0mf\u001b[0m\u001b[1;33m(\u001b[0m\u001b[0mb\u001b[0m\u001b[1;33m)\u001b[0m\u001b[1;33m\u001b[0m\u001b[0m\n\u001b[0m\u001b[0;32m      7\u001b[0m     \u001b[1;32mfor\u001b[0m \u001b[0mi\u001b[0m \u001b[1;32min\u001b[0m \u001b[0mrange\u001b[0m\u001b[1;33m(\u001b[0m\u001b[1;36m1\u001b[0m\u001b[1;33m,\u001b[0m\u001b[0mN\u001b[0m\u001b[1;33m)\u001b[0m\u001b[1;33m:\u001b[0m\u001b[1;33m\u001b[0m\u001b[0m\n\u001b[0;32m      8\u001b[0m         \u001b[0ms\u001b[0m \u001b[1;33m+=\u001b[0m \u001b[0mf\u001b[0m\u001b[1;33m(\u001b[0m\u001b[0ma\u001b[0m\u001b[1;33m+\u001b[0m\u001b[0mi\u001b[0m\u001b[1;33m*\u001b[0m\u001b[0mh\u001b[0m\u001b[1;33m)\u001b[0m\u001b[1;33m\u001b[0m\u001b[0m\n", 
        "\u001b[1;31mTypeError\u001b[0m: 'float' object is not callable"
       ]
      }
     ], 
     "prompt_number": 138
    }, 
    {
     "cell_type": "code", 
     "collapsed": true, 
     "input": [], 
     "language": "python", 
     "outputs": []
    }, 
    {
     "cell_type": "code", 
     "collapsed": true, 
     "input": [], 
     "language": "python", 
     "outputs": []
    }, 
    {
     "cell_type": "markdown", 
     "source": [
      "(4)Programming Practice"
     ]
    }, 
    {
     "cell_type": "markdown", 
     "source": [
      "(a)"
     ]
    }, 
    {
     "cell_type": "code", 
     "collapsed": false, 
     "input": [
      "prefixes = 'JKLMNOPQ'", 
      "suffix = 'ack'", 
      "", 
      "for letter in prefixes: ", 
      "    if letter == 'O':", 
      "        print letter + \"uack\"", 
      "    elif letter == 'Q':", 
      "        print letter + \"uack\"", 
      "    else:", 
      "        print letter + suffix"
     ], 
     "language": "python", 
     "outputs": [
      {
       "output_type": "stream", 
       "stream": "stdout", 
       "text": [
        "Jack", 
        "Kack", 
        "Lack", 
        "Mack", 
        "Nack", 
        "Ouack", 
        "Pack", 
        "Quack"
       ]
      }
     ], 
     "prompt_number": 77
    }, 
    {
     "cell_type": "markdown", 
     "source": [
      "(b)"
     ]
    }, 
    {
     "cell_type": "code", 
     "collapsed": false, 
     "input": [
      "def is_anagram(s1,s2):", 
      "    \"\"\"If you can rearrange the letters from one word to", 
      "       spell another, these words are anagrams\"\"\"", 
      "    s1=str(tested)", 
      "    s2=str(destet)", 
      "    if len(s1) == len(s2) and s1[0] == s2[5] or s2[1] == s2[4] or s2[2] == s2[3]:", 
      "        return True", 
      "    else:", 
      "        return False", 
      "        print is_anagram(s1,s2)", 
      ""
     ], 
     "language": "python", 
     "outputs": [], 
     "prompt_number": 119
    }, 
    {
     "cell_type": "code", 
     "collapsed": true, 
     "input": [], 
     "language": "python", 
     "outputs": []
    }
   ]
  }
 ]
}