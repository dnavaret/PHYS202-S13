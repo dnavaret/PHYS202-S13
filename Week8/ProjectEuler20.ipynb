{
 "metadata": {
  "name": "ProjectEuler20"
 }, 
 "nbformat": 2, 
 "worksheets": [
  {
   "cells": [
    {
     "cell_type": "markdown", 
     "source": [
      "Factorial Digit Sum", 
      "===================", 
      "", 
      "n! means n \u00d7 (n \u2212 1) \u00d7 ... \u00d7 3 \u00d7 2 \u00d7 1", 
      "", 
      "For example, 10! = 10 \u00d7 9 \u00d7 ... \u00d7 3 \u00d7 2 \u00d7 1 = 3628800,", 
      "and the sum of the digits in the number 10! is 3 + 6 + 2 + 8 + 8 + 0 + 0 = 27.", 
      "", 
      "Find the sum of the digits in the number 100!", 
      "__________________________________________________________________________________"
     ]
    }, 
    {
     "cell_type": "code", 
     "collapsed": false, 
     "input": [
      "def findfac(x):", 
      "      \"\"\"finds x!\"\"\"", 
      "      fac=1", 
      "      while x > 1: #counts down from x to 1", 
      "            fac=fac*x", 
      "            x=x-1", 
      "            #need both conditions simul", 
      "      return fac", 
      "print findfac(3) #test case #1"
     ], 
     "language": "python", 
     "outputs": [
      {
       "output_type": "stream", 
       "stream": "stdout", 
       "text": [
        "6"
       ]
      }
     ], 
     "prompt_number": 56
    }, 
    {
     "cell_type": "markdown", 
     "source": [
      "I know that 6! is 720, let's test the code once more.", 
      "Then in the cell directly below it will be 100!, which is most important to us. "
     ]
    }, 
    {
     "cell_type": "code", 
     "collapsed": false, 
     "input": [
      "print findfac(6)"
     ], 
     "language": "python", 
     "outputs": [
      {
       "output_type": "stream", 
       "stream": "stdout", 
       "text": [
        "720"
       ]
      }
     ], 
     "prompt_number": 57
    }, 
    {
     "cell_type": "code", 
     "collapsed": false, 
     "input": [
      "print findfac(100)"
     ], 
     "language": "python", 
     "outputs": [
      {
       "output_type": "stream", 
       "stream": "stdout", 
       "text": [
        "93326215443944152681699238856266700490715968264381621468592963895217599993229915608941463976156518286253697920827223758251185210916864000000000000000000000000"
       ]
      }
     ], 
     "prompt_number": 58
    }, 
    {
     "cell_type": "code", 
     "collapsed": false, 
     "input": [
      "facsum=0", 
      "facstring = str(findfac(10))", 
      "for i in facstring:", 
      "    facsum += int(i)", 
      "print facsum"
     ], 
     "language": "python", 
     "outputs": [
      {
       "output_type": "stream", 
       "stream": "stdout", 
       "text": [
        "27"
       ]
      }
     ], 
     "prompt_number": 102
    }, 
    {
     "cell_type": "markdown", 
     "source": [
      "above is for the test case example given by the problem.", 
      "below is the answer. "
     ]
    }, 
    {
     "cell_type": "code", 
     "collapsed": false, 
     "input": [
      "facsum=0", 
      "facstring = str(findfac(100))", 
      "for i in facstring:", 
      "    facsum += int(i)", 
      "print facsum"
     ], 
     "language": "python", 
     "outputs": [
      {
       "output_type": "stream", 
       "stream": "stdout", 
       "text": [
        "648"
       ]
      }
     ], 
     "prompt_number": 103
    }
   ]
  }
 ]
}