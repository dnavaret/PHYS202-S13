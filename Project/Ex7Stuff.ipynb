{
 "metadata": {
  "name": "Ex7Stuff"
 }, 
 "nbformat": 2, 
 "worksheets": [
  {
   "cells": [
    {
     "cell_type": "code", 
     "collapsed": true, 
     "input": [
      "import numpy as np"
     ], 
     "language": "python", 
     "outputs": [], 
     "prompt_number": 2
    }, 
    {
     "cell_type": "code", 
     "collapsed": true, 
     "input": [
      "c=5 #number of cars", 
      "x=np.random.random(c)*40 #position array", 
      "x1=sort(x.round()) ", 
      "v=np.random.random(c)*65 #velocity array", 
      "v1=v.round()"
     ], 
     "language": "python", 
     "outputs": [], 
     "prompt_number": 3
    }, 
    {
     "cell_type": "markdown", 
     "source": [
      "CA184", 
      "====="
     ]
    }, 
    {
     "cell_type": "code", 
     "collapsed": false, 
     "input": [
      "def road(c,d,vmax):", 
      "    \"\"\"Returns a position and velocity array for \"c\" cars on a road \"d\" positions long, speed limit is vmax", 
      "       position on top and velocity on bottom\"\"\"", 
      "    r = range(d)", 
      "    random.shuffle(r)", 
      "    x=r[:c]", 
      "    x=sort(x)", 
      "", 
      "    v=zeros(c,dtype=int)", 
      "    for i in range(c):", 
      "        v[i]=randint(0,vmax)", 
      "", 
      "        road = np.array([x,v])", 
      "        return road", 
      "", 
      "print road(5,40,10)"
     ], 
     "language": "python", 
     "outputs": [
      {
       "output_type": "stream", 
       "stream": "stdout", 
       "text": [
        "[[ 5 11 19 30 37]", 
        " [ 3  0  0  0  0]]"
       ]
      }
     ], 
     "prompt_number": 34
    }, 
    {
     "cell_type": "code", 
     "collapsed": false, 
     "input": [
      "def CA184(road,c,d,vmax):", 
      "    \"\"\"Returns the new position/velocity of \"n\" cars represented with an array of road length \"l\" with max speed vmax from CA184 rulset.\"\"\"", 
      "    for i in range(c):", 
      "        if i<(c-1): #g for all cars but last", 
      "            if road[0][i+1]>road[0][i]: #g if car is not last", 
      "                g = road[0][i+1]-road[0][i]-1", 
      "            else: #g if car is last", 
      "                g = (d-road[0][i])+(road[0][i+1]-1)", 
      "        else: #g for last car", 
      "            if road[0][1]>road[0][i]:", 
      "                g = road[0][1]-road[0][i]-1", 
      "            else:", 
      "                g = (d-road[0][i])+(road[0][1]-1)", 
      "        if g==0: #v according to CA184", 
      "            road[1][i]=0", 
      "        elif g>road[1][i] and road[1][i]<vmax:", 
      "            road[1][i]=road[1][i]+1", 
      "        elif g<road[1][i]:", 
      "            road[1][i]=g", 
      "", 
      "    for i in range(c): #moves cars forward v", 
      "        if road[0][i]+road[1][i]<=d: #if car is not at end of road", 
      "            road[0][i]=road[0][i]+road[1][i]", 
      "        else: #if car is last", 
      "            road[0][i]=road[1][i]-(d-road[0][i])", 
      "            ", 
      "    return road", 
      "", 
      "rd1=road(5,40,10)", 
      "", 
      "print rd1"
     ], 
     "language": "python", 
     "outputs": [
      {
       "output_type": "stream", 
       "stream": "stdout", 
       "text": [
        "[[14 20 22 24 37]", 
        " [ 0  0  0  0  0]]"
       ]
      }
     ], 
     "prompt_number": 53
    }, 
    {
     "cell_type": "code", 
     "collapsed": false, 
     "input": [
      "rd2=CA184(rd1,5,40,10)", 
      "print rd2"
     ], 
     "language": "python", 
     "outputs": [
      {
       "output_type": "stream", 
       "stream": "stdout", 
       "text": [
        "[[15 21 23 25 38]", 
        " [ 1  1  1  1  1]]"
       ]
      }
     ], 
     "prompt_number": 54
    }, 
    {
     "cell_type": "code", 
     "collapsed": false, 
     "input": [
      "rd3=CA184(rd2,5,40,10)", 
      "print rd3"
     ], 
     "language": "python", 
     "outputs": [
      {
       "output_type": "stream", 
       "stream": "stdout", 
       "text": [
        "[[17 22 24 27 40]", 
        " [ 2  1  1  2  2]]"
       ]
      }
     ], 
     "prompt_number": 55
    }, 
    {
     "cell_type": "code", 
     "collapsed": false, 
     "input": [
      "rd2=CA184(rd3,5,40,10)", 
      "print rd2"
     ], 
     "language": "python", 
     "outputs": [
      {
       "output_type": "stream", 
       "stream": "stdout", 
       "text": [
        "[[20 23 26 30  3]", 
        " [ 3  1  2  3  3]]"
       ]
      }
     ], 
     "prompt_number": 56
    }, 
    {
     "cell_type": "code", 
     "collapsed": false, 
     "input": [
      "def STCA(road,c,d,vmax,p):", 
      "    \"\"\"Returns the new positions and velocities of c cars and position on road with max speed of v_max", 
      "       and slowdown probability p according to STCA rulset.\"\"\"", 
      "    for i in range(c):", 
      "        if i<(c-1): #g save for last position", 
      "            if road[0][i+1]>road[0][i]: #g if car is not last one on road", 
      "                g = road[0][i+1]-road[0][i]-1", 
      "            else: #g last one on road", 
      "                g = (d-road[0][i])+(road[0][i+1]-1)", 
      "        else: #calculates g for last position", 
      "            if road[0][1]>road[0][i]:", 
      "                g=road[0][1]-road[0][i]-1", 
      "            else:", 
      "                g=(d-road[0][i])+(road[0][1]-1)", 
      "        if g==0: #new v determined by following rules", 
      "            road[1][i]=0", 
      "        elif g>road[1][i] and road[1][i]<vmax:", 
      "            road[1][i]=road[1][i]+1", 
      "        elif g<road[1][i]:", 
      "            road[1][i]=g", 
      "        if random_sample(1)<p and road[1][i]>0:", 
      "            road[1][i]=road[1][i]-1", 
      "    for i in range(c): #moves cars forward based on velocity", 
      "        if road[0][i]+road[1][i]<=d: #if car is not going from last to first", 
      "            road[0][i]=road[0][i]+road[1][i]", 
      "        else: #if car is last on road and goes from last to first", 
      "            road[0][i]=road[1][i]-(d-road[0][i])", 
      "    return road"
     ], 
     "language": "python", 
     "outputs": [], 
     "prompt_number": 79
    }, 
    {
     "cell_type": "markdown", 
     "source": [
      "Tests"
     ]
    }, 
    {
     "cell_type": "code", 
     "collapsed": false, 
     "input": [
      "rd1=road(5,40,10)", 
      "print rd1"
     ], 
     "language": "python", 
     "outputs": [
      {
       "output_type": "stream", 
       "stream": "stdout", 
       "text": [
        "[[ 2  4 12 29 38]", 
        " [ 6  0  0  0  0]]"
       ]
      }
     ], 
     "prompt_number": 80
    }, 
    {
     "cell_type": "code", 
     "collapsed": false, 
     "input": [
      "rd2=STCA(rd1,5,40,10,0)", 
      "print rd2"
     ], 
     "language": "python", 
     "outputs": [
      {
       "output_type": "stream", 
       "stream": "stdout", 
       "text": [
        "[[ 3  5 13 30 39]", 
        " [ 1  1  1  1  1]]"
       ]
      }
     ], 
     "prompt_number": 81
    }, 
    {
     "cell_type": "code", 
     "collapsed": false, 
     "input": [
      "rd3=STCA(rd2,5,40,10,0)", 
      "print rd3"
     ], 
     "language": "python", 
     "outputs": [
      {
       "output_type": "stream", 
       "stream": "stdout", 
       "text": [
        "[[ 4  7 15 32  1]", 
        " [ 1  2  2  2  2]]"
       ]
      }
     ], 
     "prompt_number": 82
    }, 
    {
     "cell_type": "code", 
     "collapsed": false, 
     "input": [
      "rd4=STCA(rd3,5,40,10,0.5)", 
      "print rd4"
     ], 
     "language": "python", 
     "outputs": [
      {
       "output_type": "stream", 
       "stream": "stdout", 
       "text": [
        "[[ 6  9 18 34  3]", 
        " [ 2  2  3  2  2]]"
       ]
      }
     ], 
     "prompt_number": 83
    }, 
    {
     "cell_type": "code", 
     "collapsed": false, 
     "input": [
      "rd5=STCA(rd4,5,40,10,0)", 
      "print rd5"
     ], 
     "language": "python", 
     "outputs": [
      {
       "output_type": "stream", 
       "stream": "stdout", 
       "text": [
        "[[ 8 12 22 37  6]", 
        " [ 2  3  4  3  3]]"
       ]
      }
     ], 
     "prompt_number": 84
    }, 
    {
     "cell_type": "markdown", 
     "source": [
      "ASEP ALG", 
      "--------", 
      "________"
     ]
    }, 
    {
     "cell_type": "code", 
     "collapsed": false, 
     "input": [
      "def ASEP(road,d,c):", 
      "    \"\"\"Returns positions and velocities of 'c' cars on road distance 'd', according to ASEP rules\"\"\"", 
      "    g=np.zeros(c)", 
      "    st=range(c)", 
      "    sort(random.random(st))", 
      "    for i in range(len(s)):", 
      "        k=st[i]", 
      "        if i<(c-1): #calculates g save for last d", 
      "            if road[0][i+1]>road[0][i]: #g if car is not last\\", 
      "                g = road[0][i+1]-road[0][i]-1", 
      "            else: #g last position", 
      "                g =(d-road[0][i])+(road[0][i+1]-1)", 
      "        else: #calculates g for last position", 
      "            if road[0][1]>road[0][i]:", 
      "                g=array[0][1]-array[0][i]-1", 
      "            else:", 
      "                g=(d-array[0][i])+(array[0][1]-1)", 
      "        if g==0: #new v ", 
      "            array[1][i]=0", 
      "        elif g>array[1][i] and array[1][i]<v_max:", 
      "            array[1][i]=array[1][i]+1", 
      "        elif g<array[1][i]:", 
      "            array[1][i]=g", 
      "        if array[0][i]+array[1][i]<=L: #if car is not loopin'", 
      "            array[0][i]=array[0][i]+array[1][i]", 
      "        else: #if car is last [loops]", 
      "            array[0][i]=array[1][i]-(d-array[0][i])", 
      "        return array", 
      "print v"
     ], 
     "language": "python", 
     "outputs": [
      {
       "output_type": "stream", 
       "stream": "stdout", 
       "text": [
        "[ 24.593592    13.44714746  22.02118489  51.71672953   0.53904391]"
       ]
      }
     ], 
     "prompt_number": 85
    }, 
    {
     "cell_type": "code", 
     "collapsed": true, 
     "input": [], 
     "language": "python", 
     "outputs": []
    }
   ]
  }
 ]
}