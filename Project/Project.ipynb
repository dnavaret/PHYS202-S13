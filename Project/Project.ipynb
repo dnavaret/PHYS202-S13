{
 "metadata": {
  "name": "Project"
 }, 
 "nbformat": 2, 
 "worksheets": [
  {
   "cells": [
    {
     "cell_type": "markdown", 
     "source": [
      "Project 2: One-Dimensional Traffic Flows", 
      "========================================", 
      "David Navarette", 
      "---------------", 
      "5.23.13", 
      "________________________________________"
     ]
    }, 
    {
     "cell_type": "code", 
     "collapsed": true, 
     "input": [
      " "
     ], 
     "language": "python", 
     "outputs": []
    }
   ]
  }
 ]
}