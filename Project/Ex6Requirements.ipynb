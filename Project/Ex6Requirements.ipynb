{
 "metadata": {
  "name": "Ex6Requirements"
 }, 
 "nbformat": 2, 
 "worksheets": [
  {
   "cells": [
    {
     "cell_type": "code", 
     "collapsed": true, 
     "input": [
      "import numpy as np"
     ], 
     "language": "python", 
     "outputs": []
    }, 
    {
     "cell_type": "code", 
     "collapsed": false, 
     "input": [
      "def road(c,d,vmax):", 
      "    \"\"\"Returns a position and velocity array for \"c\" cars on a road \"d\" positions long, speed limit is vmax", 
      "       position on top and velocity on bottom\"\"\"", 
      "    r = range(d)", 
      "    random.shuffle(r)", 
      "    x=r[:c]", 
      "    x=sort(x)", 
      "", 
      "    v=zeros(c,dtype=int)", 
      "    for i in range(c):", 
      "        v[i]=randint(0,vmax)", 
      "", 
      "        road = np.array([x,v])", 
      "        return road", 
      "", 
      "print road(5,40,10)"
     ], 
     "language": "python", 
     "outputs": [
      {
       "output_type": "stream", 
       "stream": "stdout", 
       "text": [
        "[[ 1  3  4 28 34]", 
        " [ 9  0  0  0  0]]"
       ]
      }
     ], 
     "prompt_number": 17
    }, 
    {
     "cell_type": "code", 
     "collapsed": false, 
     "input": [
      "def CA184(road,c,d,vmax):", 
      "    \"\"\"Returns the new position/velocity of \"n\" cars represented with an array of road length \"l\" with max speed vmax from CA184 rulset.\"\"\"", 
      "    for i in range(c):", 
      "        if i<(c-1): #g for all cars but last", 
      "            if road[0][i+1]>road[0][i]: #g if car is not last", 
      "                g = road[0][i+1]-road[0][i]-1", 
      "            else: #g if car is last", 
      "                g = (d-road[0][i])+(road[0][i+1]-1)", 
      "        else: #g for last car", 
      "            if road[0][1]>road[0][i]:", 
      "                g = road[0][1]-road[0][i]-1", 
      "            else:", 
      "                g = (d-road[0][i])+(road[0][1]-1)", 
      "        if g==0: #v according to CA184", 
      "            road[1][i]=0", 
      "        elif g>road[1][i] and road[1][i]<vmax:", 
      "            road[1][i]=road[1][i]+1", 
      "        elif g<road[1][i]:", 
      "            road[1][i]=g", 
      "", 
      "    for i in range(c): #moves cars forward v", 
      "        if road[0][i]+road[1][i]<=d: #if car is not at end of road", 
      "            road[0][i]=road[0][i]+road[1][i]", 
      "        else: #if car is last", 
      "            road[0][i]=road[1][i]-(d-road[0][i])", 
      "            ", 
      "    return road", 
      "", 
      "rd1=road(5,40,10)", 
      "", 
      "print rd1"
     ], 
     "language": "python", 
     "outputs": [
      {
       "output_type": "stream", 
       "stream": "stdout", 
       "text": [
        "[[ 8 10 19 31 34]", 
        " [ 4  0  0  0  0]]"
       ]
      }
     ], 
     "prompt_number": 18
    }, 
    {
     "cell_type": "code", 
     "collapsed": false, 
     "input": [
      "rd2=CA184(rd1,5,40,10)", 
      "print \"after one time step:\",", 
      "print rd2"
     ], 
     "language": "python", 
     "outputs": [
      {
       "output_type": "stream", 
       "stream": "stdout", 
       "text": [
        "after one time step:", 
        "[[15 20 29 39  4]", 
        " [ 3  4  4  3  4]]"
       ]
      }
     ], 
     "prompt_number": 22
    }, 
    {
     "cell_type": "code", 
     "collapsed": false, 
     "input": [
      "rd3=CA184(rd2,5,40,10)", 
      "print \"aaaaand another:\",", 
      "print rd3"
     ], 
     "language": "python", 
     "outputs": [
      {
       "output_type": "stream", 
       "stream": "stdout", 
       "text": [
        "aaaaand another:", 
        "[[19 25 34  3  9]", 
        " [ 4  5  5  4  5]]"
       ]
      }
     ], 
     "prompt_number": 23
    }, 
    {
     "cell_type": "code", 
     "collapsed": false, 
     "input": [
      "rd4=CA184(rd3,5,40,10)", 
      "print \"aaaaand another:\",", 
      "print rd4"
     ], 
     "language": "python", 
     "outputs": [
      {
       "output_type": "stream", 
       "stream": "stdout", 
       "text": [
        "aaaaand another:", 
        "[[30 38  7 14 22]", 
        " [ 6  7  7  6  7]]"
       ]
      }
     ], 
     "prompt_number": 25
    }
   ]
  }
 ]
}