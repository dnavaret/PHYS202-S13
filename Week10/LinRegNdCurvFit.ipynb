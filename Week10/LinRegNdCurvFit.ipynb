{
 "metadata": {
  "name": "LinRegNdCurvFit"
 },
 "nbformat": 3,
 "nbformat_minor": 0,
 "worksheets": [
  {
   "cells": [
    {
     "cell_type": "markdown",
     "metadata": {},
     "source": [
      "Linearizing Equations\n",
      "=====================\n",
      "______________________"
     ]
    },
    {
     "cell_type": "markdown",
     "metadata": {},
     "source": [
      "Exercise 1\n",
      "----------"
     ]
    },
    {
     "cell_type": "markdown",
     "metadata": {},
     "source": [
      "(a.)"
     ]
    },
    {
     "cell_type": "code",
     "collapsed": false,
     "input": [
      "DataIn=loadtxt('radioactivedecay.dat.txt',unpack=True,usecols=[0,1])"
     ],
     "language": "python",
     "metadata": {},
     "outputs": [],
     "prompt_number": 16
    },
    {
     "cell_type": "code",
     "collapsed": false,
     "input": [
      "print DataIn"
     ],
     "language": "python",
     "metadata": {},
     "outputs": [
      {
       "output_type": "stream",
       "stream": "stdout",
       "text": [
        "[[  0.     1.     2.     3.     4.     5.     6.     7.     8.     9.    10.\n",
        "   11.    12.    13.    14.    15.  ]\n",
        " [ 10.48   7.54   5.49   4.02   2.74   2.02   1.5    1.09   0.68   0.57\n",
        "    0.37   0.31   0.19   0.15   0.13   0.11]]\n"
       ]
      }
     ],
     "prompt_number": 17
    },
    {
     "cell_type": "code",
     "collapsed": false,
     "input": [
      "plot(DataIn[0],DataIn[1],'b*')"
     ],
     "language": "python",
     "metadata": {},
     "outputs": [
      {
       "output_type": "pyout",
       "prompt_number": 18,
       "text": [
        "[<matplotlib.lines.Line2D at 0x47add90>]"
       ]
      },
      {
       "output_type": "display_data",
       "png": "[encoded data removed]"
      }
     ],
     "prompt_number": 18
    },
    {
     "cell_type": "markdown",
     "metadata": {},
     "source": [
      "(b.)"
     ]
    },
    {
     "cell_type": "code",
     "collapsed": false,
     "input": [
      "N = log(DataIn[1])\n",
      "t = log(DataIn[0])\n",
      "\n",
      "print N"
     ],
     "language": "python",
     "metadata": {},
     "outputs": [
      {
       "output_type": "stream",
       "stream": "stdout",
       "text": [
        "[ 2.34946868  2.02022218  1.70292826  1.3912819   1.00795792  0.70309751\n",
        "  0.40546511  0.0861777  -0.38566248 -0.56211892 -0.99425227 -1.17118298\n",
        " -1.66073121 -1.89711998 -2.04022083 -2.20727491]\n"
       ]
      }
     ],
     "prompt_number": 19
    },
    {
     "cell_type": "code",
     "collapsed": false,
     "input": [
      "plot(t,N,\"*\")"
     ],
     "language": "python",
     "metadata": {},
     "outputs": [
      {
       "output_type": "pyout",
       "prompt_number": 20,
       "text": [
        "[<matplotlib.lines.Line2D at 0x48ca8d0>]"
       ]
      },
      {
       "output_type": "display_data",
       "png": "[encoded data removed]"
      }
     ],
     "prompt_number": 20
    },
    {
     "cell_type": "markdown",
     "metadata": {},
     "source": [
      "(c.)"
     ]
    },
    {
     "cell_type": "code",
     "collapsed": false,
     "input": [
      "from CurveFitting import *\n",
      "import numpy as np"
     ],
     "language": "python",
     "metadata": {},
     "outputs": [],
     "prompt_number": 21
    },
    {
     "cell_type": "code",
     "collapsed": false,
     "input": [
      "slope = LinearLeastSquaresFit(t,N)[0]\n",
      "print 'slope = ',slope\n",
      "intercept = LinearLeastSquaresFit(t,N)[1]\n",
      "print 'intercept = ',intercept\n",
      "slerr = LinearLeastSquaresFit(t,N)[2]\n",
      "print 'slope error = ',slerr\n",
      "interr = LinearLeastSquaresFit(t,N)[3]\n",
      "print 'intercept error = ',interr"
     ],
     "language": "python",
     "metadata": {},
     "outputs": [
      {
       "output_type": "stream",
       "stream": "stdout",
       "text": [
        "slope =  nan\n",
        "intercept =  nan\n",
        "slope error =  nan\n",
        "intercept error =  nan\n"
       ]
      }
     ],
     "prompt_number": 22
    },
    {
     "cell_type": "code",
     "collapsed": false,
     "input": [
      "m = LinearLeastSquaresFit(t,N)[0]\n",
      "print m\n",
      "b = LinearLeastSquaresFit(t,N)[1]\n",
      "print b\n",
      "slerr = LinearLeastSquaresFit(t,N)[2]\n",
      "print slerr\n",
      "interr = LinearLeastSquaresFit(t,N)[3]\n",
      "print interr"
     ],
     "language": "python",
     "metadata": {},
     "outputs": [
      {
       "output_type": "stream",
       "stream": "stdout",
       "text": [
        "nan\n",
        "nan\n",
        "nan\n",
        "nan\n"
       ]
      }
     ],
     "prompt_number": 23
    },
    {
     "cell_type": "code",
     "collapsed": false,
     "input": [],
     "language": "python",
     "metadata": {},
     "outputs": []
    },
    {
     "cell_type": "markdown",
     "metadata": {},
     "source": [
      "Getting a Not a Number error above. =("
     ]
    },
    {
     "cell_type": "markdown",
     "metadata": {},
     "source": [
      "(d.)"
     ]
    },
    {
     "cell_type": "code",
     "collapsed": false,
     "input": [
      "plot(t,N,'b*', label='Radioactive Decay')\n",
      "plot(t,m*t+b, color='g',label ='fit')\n",
      "legend(loc=0)\n",
      "show()"
     ],
     "language": "python",
     "metadata": {},
     "outputs": [
      {
       "output_type": "display_data",
       "png": "[encoded data removed]"
      }
     ],
     "prompt_number": 26
    },
    {
     "cell_type": "markdown",
     "metadata": {},
     "source": [
      "Generic Curve Fitting\n",
      "=====================\n",
      "_____________________"
     ]
    },
    {
     "cell_type": "markdown",
     "metadata": {},
     "source": [
      "Curve Fitting Example 1\n",
      "------------------------"
     ]
    },
    {
     "cell_type": "code",
     "collapsed": false,
     "input": [
      "#import the curve fitter from the scipy optimize package\n",
      "from scipy.optimize import curve_fit"
     ],
     "language": "python",
     "metadata": {},
     "outputs": [],
     "prompt_number": 12
    },
    {
     "cell_type": "code",
     "collapsed": false,
     "input": [
      "#define the fit function\n",
      "def func(x,a,b,c):\n",
      "    return (a*x**2+b*x+c)\n"
     ],
     "language": "python",
     "metadata": {},
     "outputs": [],
     "prompt_number": 13
    },
    {
     "cell_type": "code",
     "collapsed": false,
     "input": [
      "#Define some data (including uncertainties)\n",
      "x=array([0.0,1.0,2.0,3.0,4.0,5.0])\n",
      "y=array([-1.78,4.09,8.85,17.9,26.1,35.2])\n",
      "yerr=array([0.460,0.658,0.528,1.34,1.09,0.786])"
     ],
     "language": "python",
     "metadata": {},
     "outputs": [],
     "prompt_number": 14
    },
    {
     "cell_type": "code",
     "collapsed": false,
     "input": [
      "#make initial guess at parameters\n",
      "p0=[1.0,3.0,-2.0]\n",
      "\n",
      "#call the curve fitter and have it return the optimized parameters (popt)\n",
      "popt,pcov=curve_fit(func,x,y,p0,yerr)"
     ],
     "language": "python",
     "metadata": {},
     "outputs": [],
     "prompt_number": 15
    },
    {
     "cell_type": "code",
     "collapsed": false,
     "input": [
      "#compute the parameter uncertainties from the covariance \n",
      "\n",
      "punc=zeros(len(popt))\n",
      "for i in arange(0,len(popt)):\n",
      "    punc[i]=sqrt(pcov[i,i])\n",
      "\n",
      "    \n",
      "#print the result\n",
      "print \"optimal parameters:\",popt\n",
      "print \"uncertainties of parameters:\",punc"
     ],
     "language": "python",
     "metadata": {},
     "outputs": [
      {
       "output_type": "stream",
       "stream": "stdout",
       "text": [
        "optimal parameters: [ 0.61500361  4.33082898 -1.66737444]\n",
        "uncertainties of parameters: [ 0.11813261  0.57818057  0.50099218]\n"
       ]
      }
     ],
     "prompt_number": 16
    },
    {
     "cell_type": "code",
     "collapsed": false,
     "input": [
      "errorbar(x,y,yerr,fmt=\"r*\")\n",
      "fitresult=func(x,popt[0],popt[1],popt[2])\n",
      "plot(x,fitresult,'b-')\n",
      "show()"
     ],
     "language": "python",
     "metadata": {},
     "outputs": [
      {
       "output_type": "display_data",
       "png": "[encoded data removed]"
      }
     ],
     "prompt_number": 17
    },
    {
     "cell_type": "markdown",
     "metadata": {},
     "source": [
      "Curve fitting example 2\n",
      "-----------------------"
     ]
    },
    {
     "cell_type": "code",
     "collapsed": false,
     "input": [
      "waveform_1 = load('waveform_1.npy')\n",
      "t = np.arange(len(waveform_1))"
     ],
     "language": "python",
     "metadata": {},
     "outputs": [],
     "prompt_number": 18
    },
    {
     "cell_type": "code",
     "collapsed": false,
     "input": [
      "plot(t, waveform_1)\n",
      "xlabel(\"Time (ns)\")\n",
      "ylabel(\"Intensity (bins)\")\n",
      "show()"
     ],
     "language": "python",
     "metadata": {},
     "outputs": [
      {
       "output_type": "display_data",
       "png": "[encoded data removed]"
      }
     ],
     "prompt_number": 19
    },
    {
     "cell_type": "code",
     "collapsed": false,
     "input": [
      "def model(t, B, A, mu, sigma):\n",
      "    return B + A * exp(-((t-mu)/sigma)**2)"
     ],
     "language": "python",
     "metadata": {},
     "outputs": [],
     "prompt_number": 20
    },
    {
     "cell_type": "code",
     "collapsed": false,
     "input": [
      "x0 = array([3.,30.,15.,1.])"
     ],
     "language": "python",
     "metadata": {},
     "outputs": [],
     "prompt_number": 21
    },
    {
     "cell_type": "code",
     "collapsed": false,
     "input": [
      "popt, pcov = curve_fit(model,t,waveform_1,x0)\n",
      "plot(t, waveform_1, label=\"data\")\n",
      "plot(t, model(t,popt[0],popt[1],popt[2],popt[3]),label=\"fit\",linewidth=2)\n",
      "legend(loc=\"best\")\n",
      "show()"
     ],
     "language": "python",
     "metadata": {},
     "outputs": [
      {
       "output_type": "display_data",
       "png": "[encoded data removed]"
      }
     ],
     "prompt_number": 22
    },
    {
     "cell_type": "markdown",
     "metadata": {},
     "source": [
      "Exercise 2\n",
      "----------"
     ]
    },
    {
     "cell_type": "markdown",
     "metadata": {},
     "source": [
      "(a.)"
     ]
    },
    {
     "cell_type": "code",
     "collapsed": false,
     "input": [
      "waveform_2 = load('waveform_2.npy')\n",
      "t = np.arange(len(waveform_2))\n"
     ],
     "language": "python",
     "metadata": {},
     "outputs": [],
     "prompt_number": 24
    },
    {
     "cell_type": "code",
     "collapsed": false,
     "input": [
      "plot(t, waveform_2)\n",
      "xlabel(\"Time (ns)\")\n",
      "ylabel(\"Intensity (bins)\")\n",
      "show()"
     ],
     "language": "python",
     "metadata": {},
     "outputs": [
      {
       "output_type": "display_data",
       "png": "[encoded data removed]"
      }
     ],
     "prompt_number": 25
    },
    {
     "cell_type": "markdown",
     "metadata": {},
     "source": [
      "(b.)"
     ]
    },
    {
     "cell_type": "code",
     "collapsed": false,
     "input": [
      "def model(t1, t2, t3, B, A1, A2, A3, mu1, mu2, mu3, sigma1, sigma2, sigma3):\n",
      "    return B + A1 * exp(-((t1-mu1)/sigma1)**2) + A2 * exp(-((t2-mu2)/sigma2)**2) + A3 * exp(-((t3-mu3)/sigma3)**2)"
     ],
     "language": "python",
     "metadata": {},
     "outputs": [],
     "prompt_number": 26
    },
    {
     "cell_type": "markdown",
     "metadata": {},
     "source": [
      "(c.)"
     ]
    },
    {
     "cell_type": "code",
     "collapsed": false,
     "input": [
      "x0=([5.,10.,15.,20.,25.,30.,35.,40.,45.,50.,55.,60.])"
     ],
     "language": "python",
     "metadata": {},
     "outputs": [],
     "prompt_number": 27
    },
    {
     "cell_type": "code",
     "collapsed": false,
     "input": [],
     "language": "python",
     "metadata": {},
     "outputs": []
    }
   ],
   "metadata": {}
  }
 ]
}