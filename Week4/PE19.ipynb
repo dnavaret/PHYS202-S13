{
 "metadata": {
  "name": "PE19"
 }, 
 "nbformat": 2, 
 "worksheets": [
  {
   "cells": [
    {
     "cell_type": "markdown", 
     "source": [
      "Counting Sundays", 
      "================", 
      "Problem 19", 
      "----------", 
      "________________"
     ]
    }, 
    {
     "cell_type": "markdown", 
     "source": [
      "You are given the following information, but you may prefer to do some research for yourself.", 
      "", 
      "    1 Jan 1900 was a Monday.", 
      "    Thirty days has September,", 
      "    April, June and November.", 
      "    All the rest have thirty-one,", 
      "    Saving February alone,", 
      "    Which has twenty-eight, rain or shine.", 
      "    And on leap years, twenty-nine.", 
      "    A leap year occurs on any year evenly divisible by 4, but not on a century unless it is divisible by 400.", 
      "", 
      "How many Sundays fell on the first of the month during the twentieth century (1 Jan 1901 to 31 Dec 2000)?"
     ]
    }, 
    {
     "cell_type": "code", 
     "collapsed": false, 
     "input": [
      "def find_days(month, yr):", 
      "    \"\"\"Finds the number of days the month has\"\"\"", 
      "    if (month == 1) or (month == 3) or (month == 5) or (month == 7) \\", 
      "       or (month == 8) or (month == 10) or (month == 12):", 
      "        d = 31", 
      "        return d", 
      "    elif (month == 4) or (month == 6) or (month == 9) or (month == 11):", 
      "        d = 30", 
      "        return d", 
      "    elif (month == 2):", 
      "        if yr % 4 == 0:", 
      "            if yr % 100 == 0:", 
      "                if yr % 400 == 0:", 
      "                    \"\"\"Considers all posibities for Feb based on Leap yearr\"\"\"", 
      "                    d = 29", 
      "                    return d", 
      "                else:", 
      "                    d = 28", 
      "                    return d", 
      "            d = 29", 
      "            return d", 
      "        else:", 
      "            d = 28", 
      "            return d", 
      "         ", 
      "    else:", 
      "        print \"Error\"", 
      "         ", 
      "D = {1:'Su', 2:'M', 3:'T', 4:'W', 5:'R', 6:'F', 7:'Sa'}", 
      " ", 
      "def counter():", 
      "    \"\"\"Main code\"\"\"", 
      "    counter = 1 ", 
      "    #Starts on 1-1-1900", 
      "    total = 0", 
      "    for yr in range(1901, 2000):", 
      "    # Year", 
      "        for month in range(1, 13):", 
      "        # Month", 
      "            y = find_days(month, yr)", 
      "            for month_days in range(1, (y + 1)):", 
      "            # Number of month days", 
      "                counter = counter + 1       ", 
      "                if (month_days == 1) and L[counter] == \"Sun\":", 
      "                    total = total + 1", 
      "                if counter >= 7: # Days of the week", 
      "                    counter = 0", 
      "    print \"\\ntotal = \", (total)", 
      "    ", 
      "counter()"
     ], 
     "language": "python", 
     "outputs": [
      {
       "output_type": "stream", 
       "stream": "stdout", 
       "text": [
        "", 
        "total =  171"
       ]
      }
     ], 
     "prompt_number": 38
    }, 
    {
     "cell_type": "code", 
     "collapsed": false, 
     "input": [], 
     "language": "python", 
     "outputs": [
      {
       "ename": "SyntaxError", 
       "evalue": "invalid syntax (<ipython-input-5-45c59e3a4730>, line 1)", 
       "output_type": "pyerr", 
       "traceback": [
        "\u001b[1;36m  File \u001b[1;32m\"<ipython-input-5-45c59e3a4730>\"\u001b[1;36m, line \u001b[1;32m1\u001b[0m\n\u001b[1;33m    var count=0, y=1901, years=100;\u001b[0m\n\u001b[1;37m            ^\u001b[0m\n\u001b[1;31mSyntaxError\u001b[0m\u001b[1;31m:\u001b[0m invalid syntax\n"
       ]
      }
     ], 
     "prompt_number": 5
    }, 
    {
     "cell_type": "code", 
     "collapsed": true, 
     "input": [], 
     "language": "python", 
     "outputs": []
    }
   ]
  }
 ]
}